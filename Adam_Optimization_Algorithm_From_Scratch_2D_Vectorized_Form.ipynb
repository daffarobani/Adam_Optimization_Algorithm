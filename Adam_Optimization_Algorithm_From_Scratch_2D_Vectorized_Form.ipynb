{
 "cells": [
  {
   "cell_type": "code",
   "execution_count": 3,
   "metadata": {},
   "outputs": [
    {
     "data": {
      "text/plain": [
       "<Figure size 800x600 with 1 Axes>"
      ]
     },
     "metadata": {},
     "output_type": "display_data"
    }
   ],
   "source": [
    "#Plot the test problem\n",
    "from numpy import arange\n",
    "from numpy import meshgrid\n",
    "from matplotlib import pyplot\n",
    "from mpl_toolkits.mplot3d import Axes3D\n",
    "\n",
    "#Two Dimensional Test Problem\n",
    "\n",
    "#Objective function\n",
    "def objective(x,y):\n",
    "    return x**2.0+y**2.0\n",
    "\n",
    "#Define range for the input\n",
    "r_min, r_max = -1.0, 1.0\n",
    "#Sample input uniformly at 0.1 increments\n",
    "x_axis = arange(r_min, r_max, 0.1)\n",
    "y_axis = arange(r_min, r_max, 0.1)\n",
    "#Create a mesh from the axis\n",
    "x, y = meshgrid(x_axis, y_axis)\n",
    "#Compute targets\n",
    "z = objective(x,y)\n",
    "#Create a surfacte plot\n",
    "figure = pyplot.figure(figsize=[8,6])\n",
    "axis = figure.gca(projection='3d')\n",
    "axis.plot_surface(x,y,z,cmap='jet')\n",
    "\n",
    "pyplot.show()"
   ]
  },
  {
   "cell_type": "code",
   "execution_count": 4,
   "metadata": {},
   "outputs": [
    {
     "data": {
      "image/png": "[encoded data removed]",
      "text/plain": [
       "<Figure size 432x288 with 1 Axes>"
      ]
     },
     "metadata": {
      "needs_background": "light"
     },
     "output_type": "display_data"
    }
   ],
   "source": [
    "##Creates a contour plot\n",
    "from numpy import asarray\n",
    "#Objective function\n",
    "def objective(x,y):\n",
    "    return x**2.0+y**2.0\n",
    "\n",
    "#Define range for the input\n",
    "bounds = asarray([[-1.0,1.0],[-1.0,1.0]])\n",
    "#Sample input uniformly at 0.1 increments\n",
    "x_axis = arange(bounds[0,0], bounds[0,1], 0.1)\n",
    "y_axis = arange(bounds[0,0], bounds[0,1], 0.1)\n",
    "\n",
    "#Create a mesh from the axis\n",
    "x, y = meshgrid(x_axis, y_axis)\n",
    "#Compute targets\n",
    "z = objective(x,y)\n",
    "\n",
    "pyplot.contourf(x,y,z,levels=50,cmap='jet')\n",
    "pyplot.show()"
   ]
  },
  {
   "cell_type": "code",
   "execution_count": 5,
   "metadata": {},
   "outputs": [],
   "source": [
    "##Gradient Descent Optimization with Adam"
   ]
  },
  {
   "cell_type": "code",
   "execution_count": 6,
   "metadata": {},
   "outputs": [],
   "source": [
    "#Gradient optimization algorithm with adam\n",
    "def adam(objective,derivative,bounds,n_iter,alpha,beta1,beta2,eps=1e-8):\n",
    "    #Generate an initial point\n",
    "    x = bounds[:,0]+rand(len(bounds))*(bounds[:,1]-bounds[:,0])\n",
    "    score = objective(x[0],x[1])\n",
    "    #Initialize the first and second moments to be zero \n",
    "    m = [0.0 for _ in range(bounds.shape[0])]\n",
    "    v = [0.0 for _ in range(bounds.shape[0])]\n",
    "    #Run the gradient descent updates\n",
    "    for it in range(n_iter):\n",
    "        #Calculate gradient\n",
    "        g = derivative(x[0],x[1])\n",
    "        for i in range(x.shape[0]):\n",
    "            #Calculate the first moment\n",
    "            m[i] = beta1*m[i]+(1-beta1)*g[i]\n",
    "            #Calculate the second moment\n",
    "            v[i] = beta2*v[i]+(1-beta2)*g[i]**2.0\n",
    "            #Bias correction for the first and second moments\n",
    "            mhat = m[i] / (1.0-beta1**(it+1))\n",
    "            vhat = v[i] / (1.0-beta2**(it+1))\n",
    "            \n",
    "            #Update variable\n",
    "            x[i] = x[i]-alpha*mhat/(sqrt(vhat)+eps)\n",
    "        \n",
    "        #Evaluate candidate point\n",
    "        score = objective(x[0],x[1])\n",
    "        #Report progress\n",
    "        print('->%d f(%s) = %.5f' %(it, x, score))\n",
    "    return [x,score]"
   ]
  },
  {
   "cell_type": "code",
   "execution_count": 24,
   "metadata": {},
   "outputs": [
    {
     "name": "stdout",
     "output_type": "stream",
     "text": [
      "->0 f([-0.14595599  0.42064899]) = 0.19825\n",
      "->1 f([-0.12613855  0.40070573]) = 0.17648\n",
      "->2 f([-0.10665938  0.3808601 ]) = 0.15643\n",
      "->3 f([-0.08770234  0.3611548 ]) = 0.13812\n",
      "->4 f([-0.06947941  0.34163405]) = 0.12154\n",
      "->5 f([-0.05222756  0.32234308]) = 0.10663\n",
      "->6 f([-0.03620086  0.30332769]) = 0.09332\n",
      "->7 f([-0.02165679  0.28463383]) = 0.08149\n",
      "->8 f([-0.00883663  0.26630707]) = 0.07100\n",
      "->9 f([0.00205801 0.24839209]) = 0.06170\n",
      "->10 f([0.01088844 0.23093228]) = 0.05345\n",
      "->11 f([0.01759677 0.2139692 ]) = 0.04609\n",
      "->12 f([0.02221425 0.19754214]) = 0.03952\n",
      "->13 f([0.02485859 0.18168769]) = 0.03363\n",
      "->14 f([0.02572196 0.16643933]) = 0.02836\n",
      "->15 f([0.02505339 0.15182705]) = 0.02368\n",
      "->16 f([0.02313917 0.13787701]) = 0.01955\n",
      "->17 f([0.02028406 0.12461125]) = 0.01594\n",
      "->18 f([0.01679451 0.11204744]) = 0.01284\n",
      "->19 f([0.01296436 0.10019867]) = 0.01021\n",
      "->20 f([0.00906264 0.08907337]) = 0.00802\n",
      "->21 f([0.00532366 0.07867522]) = 0.00622\n",
      "->22 f([0.00193919 0.06900318]) = 0.00477\n",
      "->23 f([-0.00094677  0.06005154]) = 0.00361\n",
      "->24 f([-0.00324034  0.05181012]) = 0.00269\n",
      "->25 f([-0.00489722  0.04426444]) = 0.00198\n",
      "->26 f([-0.00591902  0.03739604]) = 0.00143\n",
      "->27 f([-0.00634719  0.0311828 ]) = 0.00101\n",
      "->28 f([-0.00625503  0.02559933]) = 0.00069\n",
      "->29 f([-0.00573849  0.02061737]) = 0.00046\n",
      "->30 f([-0.00490679  0.01620624]) = 0.00029\n",
      "->31 f([-0.00387317  0.01233332]) = 0.00017\n",
      "->32 f([-0.00274675  0.00896449]) = 0.00009\n",
      "->33 f([-0.00162559  0.00606458]) = 0.00004\n",
      "->34 f([-0.00059149  0.00359785]) = 0.00001\n",
      "->35 f([0.0002934  0.00152838]) = 0.00000\n",
      "->36 f([ 0.00098821 -0.00017954]) = 0.00000\n",
      "->37 f([ 0.00147307 -0.00156101]) = 0.00000\n",
      "->38 f([ 0.00174746 -0.00265025]) = 0.00001\n",
      "->39 f([ 0.00182724 -0.00348028]) = 0.00002\n",
      "->40 f([ 0.00174089 -0.00408267]) = 0.00002\n",
      "->41 f([ 0.00152536 -0.00448737]) = 0.00002\n",
      "->42 f([ 0.00122173 -0.00472254]) = 0.00002\n",
      "->43 f([ 0.00087133 -0.00481438]) = 0.00002\n",
      "->44 f([ 0.00051228 -0.00478712]) = 0.00002\n",
      "->45 f([ 0.00017692 -0.00466292]) = 0.00002\n",
      "->46 f([-0.00011001 -0.00446188]) = 0.00002\n",
      "->47 f([-0.00033219 -0.004202  ]) = 0.00002\n",
      "->48 f([-0.00048176 -0.00389929]) = 0.00002\n",
      "->49 f([-0.00055861 -0.00356777]) = 0.00001\n",
      "->50 f([-0.00056912 -0.00321961]) = 0.00001\n",
      "->51 f([-0.00052452 -0.00286514]) = 0.00001\n",
      "->52 f([-0.00043908 -0.00251304]) = 0.00001\n",
      "->53 f([-0.0003283  -0.00217044]) = 0.00000\n",
      "->54 f([-0.00020731 -0.00184302]) = 0.00000\n",
      "->55 f([-8.95352320e-05 -1.53514076e-03]) = 0.00000\n",
      "->56 f([ 1.43050285e-05 -1.25002847e-03]) = 0.00000\n",
      "->57 f([ 9.67123406e-05 -9.89850279e-04]) = 0.00000\n",
      "->58 f([ 0.00015359 -0.00075587]) = 0.00000\n",
      "->59 f([ 0.00018407 -0.00054858]) = 0.00000\n",
      "Optimization finished\n",
      "f([ 0.00018407 -0.00054858]) = 0.000000\n"
     ]
    }
   ],
   "source": [
    "#Main script\n",
    "from math import sqrt\n",
    "from numpy import asarray\n",
    "from numpy.random import rand\n",
    "from numpy.random import seed\n",
    "from numpy import meshgrid\n",
    "import numpy as np\n",
    "from matplotlib import pyplot\n",
    "from mpl_toolkits.mplot3d import Axes3D\n",
    "import time\n",
    "\n",
    "#Objective function\n",
    "def objective(x,y):\n",
    "    return x**2.0+y**2.0\n",
    "\n",
    "#Derivative of objective function\n",
    "def derivative(x,y):\n",
    "    return asarray([x*2.0,y*2.0])\n",
    "\n",
    "#Gradient optimization algorithm with adam\n",
    "def adam(objective,derivative,bounds,n_iter,alpha,beta1,beta2,eps=1e-8):\n",
    "    solutions = list()\n",
    "    #Generate an initial point\n",
    "    x = bounds[:,0]+rand(len(bounds))*(bounds[:,1]-bounds[:,0])\n",
    "    score = objective(x[0],x[1])\n",
    "    #Initialize the first and second moments to be zero \n",
    "    m = np.array([0.0 for _ in range(bounds.shape[0])])\n",
    "    v = np.array([0.0 for _ in range(bounds.shape[0])])\n",
    "    #Run the gradient descent updates\n",
    "    for it in range(n_iter):\n",
    "        #Calculate gradient\n",
    "        g = derivative(x[0],x[1])\n",
    "        g = np.array(g)\n",
    "        #Calculate the first moment\n",
    "        m = beta1*m+(1-beta1)*g\n",
    "        #Calculate the second moment\n",
    "        v = beta2*v+(1-beta2)*g**2.0\n",
    "        #Bias correction for the first and second moments\n",
    "        mhat = m/(1.0-beta1**(it+1))\n",
    "        vhat = v/(1.0-beta2**(it+1))\n",
    "        #Update variable\n",
    "        x = x-alpha*mhat/(vhat**(0.5)+eps)\n",
    "        \n",
    "        #Evaluate candidate point\n",
    "        score = objective(x[0],x[1])\n",
    "        #Save solution at each iteration\n",
    "        solutions.append(x.copy())\n",
    "        #Report progress\n",
    "        print('->%d f(%s) = %.5f' %(it, x, score))\n",
    "    return x,score,solutions\n",
    "\n",
    "#Seed the pseudo random number generator\n",
    "seed(1)\n",
    "#Define range for the input\n",
    "bounds = asarray([[-1.0,1.0],[-1.0,1.0]])\n",
    "#Define the number of iterations\n",
    "n_iter=60\n",
    "#Learning rate\n",
    "alpha = 0.02\n",
    "#Factor for average gradient\n",
    "beta1 = 0.8\n",
    "#Factor for average squared gradient\n",
    "beta2=0.999\n",
    "#Perform gradient descent optimization with adam\n",
    "start = time.time()\n",
    "best_x, score, solutions = adam(objective,derivative,bounds,n_iter,alpha,beta1,beta2)\n",
    "finish=time.time()\n",
    "print('Optimization finished')\n",
    "print('f(%s) = %f' %(best_x, score))"
   ]
  },
  {
   "cell_type": "code",
   "execution_count": 25,
   "metadata": {},
   "outputs": [
    {
     "data": {
      "text/plain": [
       "0.011926889419555664"
      ]
     },
     "execution_count": 25,
     "metadata": {},
     "output_type": "execute_result"
    }
   ],
   "source": [
    "finish-start"
   ]
  },
  {
   "cell_type": "code",
   "execution_count": 14,
   "metadata": {},
   "outputs": [],
   "source": [
    "m = np.array([0.0 for _ in range(bounds.shape[0])])\n",
    "v = np.array([0.0 for _ in range(bounds.shape[0])])"
   ]
  },
  {
   "cell_type": "code",
   "execution_count": 16,
   "metadata": {},
   "outputs": [
    {
     "data": {
      "text/plain": [
       "array([0., 0.])"
      ]
     },
     "execution_count": 16,
     "metadata": {},
     "output_type": "execute_result"
    }
   ],
   "source": [
    "beta1*m+(1-beta1)*g"
   ]
  },
  {
   "cell_type": "code",
   "execution_count": 20,
   "metadata": {},
   "outputs": [
    {
     "data": {
      "text/plain": [
       "array([4., 9.])"
      ]
     },
     "execution_count": 20,
     "metadata": {},
     "output_type": "execute_result"
    }
   ],
   "source": [
    "g = np.array([2,3])\n",
    "g**2.0"
   ]
  },
  {
   "cell_type": "code",
   "execution_count": 9,
   "metadata": {},
   "outputs": [
    {
     "data": {
      "image/png": "[encoded data removed]",
      "text/plain": [
       "<Figure size 432x288 with 1 Axes>"
      ]
     },
     "metadata": {
      "needs_background": "light"
     },
     "output_type": "display_data"
    }
   ],
   "source": [
    "#Visualization of the optimization algorithm\n",
    "#Sample input uniformly at 0.1 increments\n",
    "x_axis = arange(bounds[0,0], bounds[0,1], 0.1)\n",
    "y_axis = arange(bounds[0,0], bounds[0,1], 0.1)\n",
    "\n",
    "#Create a mesh from the axis\n",
    "x, y = meshgrid(x_axis, y_axis)\n",
    "#Compute targets\n",
    "z = objective(x,y)\n",
    "\n",
    "pyplot.contourf(x,y,z,levels=50,cmap='jet')\n",
    "solutions = asarray(solutions)\n",
    "pyplot.plot(solutions[:,0],solutions[:,1],'.-',color='w')\n",
    "pyplot.show()"
   ]
  }
 ],
 "metadata": {
  "kernelspec": {
   "display_name": "Python 3",
   "language": "python",
   "name": "python3"
  },
  "language_info": {
   "codemirror_mode": {
    "name": "ipython",
    "version": 3
   },
   "file_extension": ".py",
   "mimetype": "text/x-python",
   "name": "python",
   "nbconvert_exporter": "python",
   "pygments_lexer": "ipython3",
   "version": "3.7.4"
  }
 },
 "nbformat": 4,
 "nbformat_minor": 2
}
